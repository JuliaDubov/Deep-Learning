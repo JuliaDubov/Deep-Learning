{
 "cells": [
  {
   "cell_type": "code",
   "execution_count": null,
   "id": "f4a601ba",
   "metadata": {
    "id": "f4a601ba"
   },
   "outputs": [],
   "source": [
    "!pip install torch torchvision"
   ]
  },
  {
   "cell_type": "code",
   "execution_count": null,
   "id": "XfnyhSF3nO_f",
   "metadata": {
    "id": "XfnyhSF3nO_f"
   },
   "outputs": [],
   "source": [
    "import torch\n",
    "from torchvision import datasets, transforms\n",
    "from torch.utils.data import DataLoader\n",
    "from sklearn.neighbors import KNeighborsClassifier\n",
    "from sklearn.model_selection import KFold\n",
    "from sklearn.metrics import accuracy_score, precision_score, recall_score, f1_score, confusion_matrix\n",
    "import numpy as np\n",
    "import matplotlib.pyplot as plt"
   ]
  },
  {
   "cell_type": "code",
   "execution_count": null,
   "id": "OGIkTgCknR-j",
   "metadata": {
    "id": "OGIkTgCknR-j"
   },
   "outputs": [],
   "source": [
    "# Define the transformations including normalization and flattening\n",
    "transform = transforms.Compose([\n",
    "    transforms.ToTensor(),\n",
    "    transforms.Normalize((0.1307,), (0.3081,)),\n",
    "    transforms.Lambda(lambda x: x.view(-1))  # Flatten the image to 1D array\n",
    "])"
   ]
  },
  {
   "cell_type": "code",
   "execution_count": null,
   "id": "FawiAmFlnU6M",
   "metadata": {
    "id": "FawiAmFlnU6M"
   },
   "outputs": [],
   "source": [
    "# Load the MNIST training and test datasets\n",
    "train_dataset = datasets.MNIST(root='./data', train=True, download=True, transform=transform)\n",
    "test_dataset = datasets.MNIST(root='./data', train=False, download=True, transform=transform)\n",
    "\n",
    "# Convert data to numpy arrays\n",
    "train_data = train_dataset.data.numpy().reshape(-1, 28*28)\n",
    "train_labels = train_dataset.targets.numpy()\n",
    "test_data = test_dataset.data.numpy().reshape(-1, 28*28)\n",
    "test_labels = test_dataset.targets.numpy()"
   ]
  },
  {
   "cell_type": "code",
   "execution_count": null,
   "id": "V4jO56VEnZXA",
   "metadata": {
    "id": "V4jO56VEnZXA"
   },
   "outputs": [],
   "source": [
    "# Reduce the size of the training data for faster computation\n",
    "sample_size = 10000  # Choose a smaller sample size\n",
    "indices = np.random.choice(len(train_data), sample_size, replace=False)\n",
    "train_data_sample = train_data[indices]\n",
    "train_labels_sample = train_labels[indices]"
   ]
  },
  {
   "cell_type": "code",
   "execution_count": null,
   "id": "v3wWyI4sngPt",
   "metadata": {
    "id": "v3wWyI4sngPt"
   },
   "outputs": [],
   "source": [
    "# Cross-validation to find the best value of k\n",
    "def cross_validate(k_values, X_train, y_train):\n",
    "    kf = KFold(n_splits=5)\n",
    "    accuracies = {k: [] for k in k_values}\n",
    "\n",
    "    for train_index, val_index in kf.split(X_train):\n",
    "        X_tr, X_val = X_train[train_index], X_train[val_index]\n",
    "        y_tr, y_val = y_train[train_index], y_train[val_index]\n",
    "\n",
    "        for k in k_values:\n",
    "            knn = KNeighborsClassifier(n_neighbors=k, metric='manhattan')  # Using L1 distance\n",
    "            knn.fit(X_tr, y_tr)\n",
    "            y_pred = knn.predict(X_val)\n",
    "            accuracy = accuracy_score(y_val, y_pred)\n",
    "            accuracies[k].append(accuracy)\n",
    "\n",
    "    avg_accuracies = {k: np.mean(v) for k, v in accuracies.items()}\n",
    "    return avg_accuracies\n",
    "\n",
    "k_values = [1, 2, 5, 10, 20]\n",
    "accuracies = cross_validate(k_values, train_data_sample, train_labels_sample)"
   ]
  },
  {
   "cell_type": "code",
   "execution_count": null,
   "id": "g0BRzJZxnjOq",
   "metadata": {
    "id": "g0BRzJZxnjOq"
   },
   "outputs": [],
   "source": [
    "# Plotting accuracies\n",
    "plt.figure()\n",
    "plt.plot(k_values, [accuracies[k] for k in k_values])\n",
    "plt.xlabel('k')\n",
    "plt.ylabel('Validation Accuracy')\n",
    "plt.title('5-Fold Cross-Validation Accuracy for Different k')\n",
    "plt.show()\n",
    "\n",
    "best_k = max(accuracies, key=accuracies.get)\n",
    "print(f'Best value of k: {best_k}')"
   ]
  },
  {
   "cell_type": "code",
   "execution_count": null,
   "id": "hAXJD_eAnnah",
   "metadata": {
    "id": "hAXJD_eAnnah"
   },
   "outputs": [],
   "source": [
    "# Evaluate on the test set using the best k\n",
    "knn = KNeighborsClassifier(n_neighbors=best_k, metric='manhattan')\n",
    "knn.fit(train_data, train_labels)\n",
    "test_preds = knn.predict(test_data)\n",
    "\n",
    "accuracy = accuracy_score(test_labels, test_preds)\n",
    "precision = precision_score(test_labels, test_preds, average='macro')\n",
    "recall = recall_score(test_labels, test_preds, average='macro')\n",
    "f1 = f1_score(test_labels, test_preds, average='macro')\n",
    "conf_matrix = confusion_matrix(test_labels, test_preds)\n",
    "\n",
    "print(f'Accuracy: {accuracy}')\n",
    "print(f'Precision: {precision}')\n",
    "print(f'Recall: {recall}')\n",
    "print(f'F1-score: {f1}')\n",
    "print(f'Confusion Matrix:\\n{conf_matrix}')"
   ]
  }
 ],
 "metadata": {
  "accelerator": "GPU",
  "colab": {
   "gpuType": "T4",
   "provenance": []
  },
  "kernelspec": {
   "display_name": "Python 3 (ipykernel)",
   "language": "python",
   "name": "python3"
  },
  "language_info": {
   "codemirror_mode": {
    "name": "ipython",
    "version": 3
   },
   "file_extension": ".py",
   "mimetype": "text/x-python",
   "name": "python",
   "nbconvert_exporter": "python",
   "pygments_lexer": "ipython3",
   "version": "3.10.9"
  }
 },
 "nbformat": 4,
 "nbformat_minor": 5
}
